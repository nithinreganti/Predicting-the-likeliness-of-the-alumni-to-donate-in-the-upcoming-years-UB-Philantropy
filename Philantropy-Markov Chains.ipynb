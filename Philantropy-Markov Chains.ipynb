{
 "cells": [
  {
   "cell_type": "code",
   "execution_count": 1,
   "metadata": {},
   "outputs": [],
   "source": [
    "import pandas as pd\n",
    "import csv"
   ]
  },
  {
   "cell_type": "code",
   "execution_count": 2,
   "metadata": {},
   "outputs": [
    {
     "name": "stderr",
     "output_type": "stream",
     "text": [
      "C:\\Users\\User\\Anaconda3\\lib\\site-packages\\IPython\\core\\interactiveshell.py:3058: DtypeWarning: Columns (34,35,37,38,39) have mixed types. Specify dtype option on import or set low_memory=False.\n",
      "  interactivity=interactivity, compiler=compiler, result=result)\n"
     ]
    }
   ],
   "source": [
    "ub_data=pd.read_csv(r'F:\\UB Philantrophy\\Management_zipcode_1_use.csv')"
   ]
  },
  {
   "cell_type": "code",
   "execution_count": 3,
   "metadata": {},
   "outputs": [
    {
     "data": {
      "text/html": [
       "<div>\n",
       "<style scoped>\n",
       "    .dataframe tbody tr th:only-of-type {\n",
       "        vertical-align: middle;\n",
       "    }\n",
       "\n",
       "    .dataframe tbody tr th {\n",
       "        vertical-align: top;\n",
       "    }\n",
       "\n",
       "    .dataframe thead th {\n",
       "        text-align: right;\n",
       "    }\n",
       "</style>\n",
       "<table border=\"1\" class=\"dataframe\">\n",
       "  <thead>\n",
       "    <tr style=\"text-align: right;\">\n",
       "      <th></th>\n",
       "      <th>ID_NUMBER</th>\n",
       "      <th>FACULTY_STAFF_IND</th>\n",
       "      <th>MARITAL_STATUS</th>\n",
       "      <th>GENDER</th>\n",
       "      <th>AGE_BRACKET</th>\n",
       "      <th>STATE_CODE</th>\n",
       "      <th>ZIPCODE</th>\n",
       "      <th>STUDENT_ACTIVITY_PARTICIPANT</th>\n",
       "      <th>DEGREE_CODE1</th>\n",
       "      <th>DEGREE_YEAR1</th>\n",
       "      <th>...</th>\n",
       "      <th>NO_EVENTS_2017_NEW</th>\n",
       "      <th>NO_EVENTS_2016_NEW</th>\n",
       "      <th>NO_EVENTS_2015_NEW</th>\n",
       "      <th>NO_EVENTS_2014_NEW</th>\n",
       "      <th>NO_EVENTS_2013_NEW</th>\n",
       "      <th>NO_EVENTS_2012_NEW</th>\n",
       "      <th>NO_EVENTS_2011_NEW</th>\n",
       "      <th>NO_EVENTS_2010_NEW</th>\n",
       "      <th>NO_EVENTS_2009_NEW</th>\n",
       "      <th>NO_EVENTS_2008_NEW</th>\n",
       "    </tr>\n",
       "  </thead>\n",
       "  <tbody>\n",
       "    <tr>\n",
       "      <th>0</th>\n",
       "      <td>109248</td>\n",
       "      <td>N</td>\n",
       "      <td>S</td>\n",
       "      <td>M</td>\n",
       "      <td>90</td>\n",
       "      <td>NY</td>\n",
       "      <td>14068</td>\n",
       "      <td>N</td>\n",
       "      <td>BS</td>\n",
       "      <td>1953</td>\n",
       "      <td>...</td>\n",
       "      <td>0</td>\n",
       "      <td>0</td>\n",
       "      <td>0</td>\n",
       "      <td>0</td>\n",
       "      <td>0</td>\n",
       "      <td>0</td>\n",
       "      <td>0</td>\n",
       "      <td>0</td>\n",
       "      <td>0</td>\n",
       "      <td>1</td>\n",
       "    </tr>\n",
       "    <tr>\n",
       "      <th>1</th>\n",
       "      <td>52671</td>\n",
       "      <td>N</td>\n",
       "      <td>S</td>\n",
       "      <td>M</td>\n",
       "      <td>60</td>\n",
       "      <td>NY</td>\n",
       "      <td>13027</td>\n",
       "      <td>N</td>\n",
       "      <td>BS</td>\n",
       "      <td>1981</td>\n",
       "      <td>...</td>\n",
       "      <td>0</td>\n",
       "      <td>0</td>\n",
       "      <td>0</td>\n",
       "      <td>0</td>\n",
       "      <td>0</td>\n",
       "      <td>0</td>\n",
       "      <td>0</td>\n",
       "      <td>0</td>\n",
       "      <td>0</td>\n",
       "      <td>0</td>\n",
       "    </tr>\n",
       "    <tr>\n",
       "      <th>2</th>\n",
       "      <td>159329</td>\n",
       "      <td>N</td>\n",
       "      <td>M</td>\n",
       "      <td>M</td>\n",
       "      <td>45</td>\n",
       "      <td>NY</td>\n",
       "      <td>14043</td>\n",
       "      <td>N</td>\n",
       "      <td>BS</td>\n",
       "      <td>1992</td>\n",
       "      <td>...</td>\n",
       "      <td>0</td>\n",
       "      <td>0</td>\n",
       "      <td>0</td>\n",
       "      <td>0</td>\n",
       "      <td>0</td>\n",
       "      <td>0</td>\n",
       "      <td>0</td>\n",
       "      <td>0</td>\n",
       "      <td>0</td>\n",
       "      <td>0</td>\n",
       "    </tr>\n",
       "    <tr>\n",
       "      <th>3</th>\n",
       "      <td>52861</td>\n",
       "      <td>N</td>\n",
       "      <td></td>\n",
       "      <td>M</td>\n",
       "      <td>55</td>\n",
       "      <td>NY</td>\n",
       "      <td>14052</td>\n",
       "      <td>N</td>\n",
       "      <td>BS</td>\n",
       "      <td>1983</td>\n",
       "      <td>...</td>\n",
       "      <td>0</td>\n",
       "      <td>0</td>\n",
       "      <td>0</td>\n",
       "      <td>0</td>\n",
       "      <td>0</td>\n",
       "      <td>0</td>\n",
       "      <td>0</td>\n",
       "      <td>0</td>\n",
       "      <td>0</td>\n",
       "      <td>0</td>\n",
       "    </tr>\n",
       "    <tr>\n",
       "      <th>4</th>\n",
       "      <td>37191</td>\n",
       "      <td>N</td>\n",
       "      <td>M</td>\n",
       "      <td>M</td>\n",
       "      <td>80</td>\n",
       "      <td>NaN</td>\n",
       "      <td>NaN</td>\n",
       "      <td>N</td>\n",
       "      <td>BS</td>\n",
       "      <td>1975</td>\n",
       "      <td>...</td>\n",
       "      <td>0</td>\n",
       "      <td>0</td>\n",
       "      <td>0</td>\n",
       "      <td>0</td>\n",
       "      <td>0</td>\n",
       "      <td>0</td>\n",
       "      <td>0</td>\n",
       "      <td>0</td>\n",
       "      <td>0</td>\n",
       "      <td>0</td>\n",
       "    </tr>\n",
       "  </tbody>\n",
       "</table>\n",
       "<p>5 rows × 52 columns</p>\n",
       "</div>"
      ],
      "text/plain": [
       "   ID_NUMBER FACULTY_STAFF_IND MARITAL_STATUS GENDER  AGE_BRACKET STATE_CODE  \\\n",
       "0     109248                 N              S      M           90         NY   \n",
       "1      52671                 N              S      M           60         NY   \n",
       "2     159329                 N              M      M           45         NY   \n",
       "3      52861                 N                     M           55         NY   \n",
       "4      37191                 N              M      M           80        NaN   \n",
       "\n",
       "  ZIPCODE STUDENT_ACTIVITY_PARTICIPANT DEGREE_CODE1  DEGREE_YEAR1  ...  \\\n",
       "0   14068                            N           BS          1953  ...   \n",
       "1   13027                            N           BS          1981  ...   \n",
       "2   14043                            N           BS          1992  ...   \n",
       "3   14052                            N           BS          1983  ...   \n",
       "4     NaN                            N           BS          1975  ...   \n",
       "\n",
       "  NO_EVENTS_2017_NEW NO_EVENTS_2016_NEW NO_EVENTS_2015_NEW NO_EVENTS_2014_NEW  \\\n",
       "0                  0                  0                  0                  0   \n",
       "1                  0                  0                  0                  0   \n",
       "2                  0                  0                  0                  0   \n",
       "3                  0                  0                  0                  0   \n",
       "4                  0                  0                  0                  0   \n",
       "\n",
       "  NO_EVENTS_2013_NEW NO_EVENTS_2012_NEW NO_EVENTS_2011_NEW NO_EVENTS_2010_NEW  \\\n",
       "0                  0                  0                  0                  0   \n",
       "1                  0                  0                  0                  0   \n",
       "2                  0                  0                  0                  0   \n",
       "3                  0                  0                  0                  0   \n",
       "4                  0                  0                  0                  0   \n",
       "\n",
       "  NO_EVENTS_2009_NEW NO_EVENTS_2008_NEW  \n",
       "0                  0                  1  \n",
       "1                  0                  0  \n",
       "2                  0                  0  \n",
       "3                  0                  0  \n",
       "4                  0                  0  \n",
       "\n",
       "[5 rows x 52 columns]"
      ]
     },
     "execution_count": 3,
     "metadata": {},
     "output_type": "execute_result"
    }
   ],
   "source": [
    "ub_data.head()"
   ]
  },
  {
   "cell_type": "code",
   "execution_count": 4,
   "metadata": {},
   "outputs": [],
   "source": [
    "data_2017 = ub_data[\"GIFT_AMOUNT_2017_NEW\"].tolist()"
   ]
  },
  {
   "cell_type": "code",
   "execution_count": 5,
   "metadata": {},
   "outputs": [],
   "source": [
    "for n,i in enumerate(data_2017):\n",
    "    if i != 0:\n",
    "        data_2017[n] =1"
   ]
  },
  {
   "cell_type": "code",
   "execution_count": 6,
   "metadata": {},
   "outputs": [],
   "source": [
    "data_2018=ub_data[\"GIFT_AMOUNT_2018_NEW\"].tolist()"
   ]
  },
  {
   "cell_type": "code",
   "execution_count": 7,
   "metadata": {},
   "outputs": [],
   "source": [
    "for n,i in enumerate(data_2018):\n",
    "    if i != 0:\n",
    "        data_2018[n] =1"
   ]
  },
  {
   "cell_type": "code",
   "execution_count": 8,
   "metadata": {},
   "outputs": [],
   "source": [
    "ntod=0\n",
    "for i in range(len(data_2017)):\n",
    "    if data_2017[i] == 0 and data_2018[i] == 1:       \n",
    "        ntod = ntod + 1"
   ]
  },
  {
   "cell_type": "code",
   "execution_count": 9,
   "metadata": {},
   "outputs": [],
   "source": [
    "dton=0\n",
    "for i in range(len(data_2017)):\n",
    "    if data_2017[i] == 1 and data_2018[i] == 0:       \n",
    "        dton = dton + 1"
   ]
  },
  {
   "cell_type": "code",
   "execution_count": 10,
   "metadata": {},
   "outputs": [],
   "source": [
    "dtod=0\n",
    "for i in range(len(data_2017)):\n",
    "    if data_2017[i] == 1 and data_2018[i] == 1:       \n",
    "        dtod = dtod + 1"
   ]
  },
  {
   "cell_type": "code",
   "execution_count": 11,
   "metadata": {},
   "outputs": [],
   "source": [
    "nton=0\n",
    "for i in range(len(data_2017)):\n",
    "    if data_2017[i] == 0 and data_2018[i] == 0:       \n",
    "        nton = nton + 1"
   ]
  },
  {
   "cell_type": "code",
   "execution_count": 12,
   "metadata": {},
   "outputs": [],
   "source": [
    "n_in_2017=data_2017.count(0)"
   ]
  },
  {
   "cell_type": "code",
   "execution_count": 13,
   "metadata": {},
   "outputs": [],
   "source": [
    "d_in_2017=data_2017.count(1)"
   ]
  },
  {
   "cell_type": "code",
   "execution_count": 14,
   "metadata": {},
   "outputs": [],
   "source": [
    "n_in_2018=data_2018.count(0)"
   ]
  },
  {
   "cell_type": "code",
   "execution_count": 15,
   "metadata": {},
   "outputs": [],
   "source": [
    "d_in_2018=data_2018.count(1)"
   ]
  },
  {
   "cell_type": "code",
   "execution_count": 16,
   "metadata": {},
   "outputs": [],
   "source": [
    "non_to_donor_prob=ntod/n_in_2017"
   ]
  },
  {
   "cell_type": "code",
   "execution_count": 17,
   "metadata": {},
   "outputs": [
    {
     "data": {
      "text/plain": [
       "0.021154140517373337"
      ]
     },
     "execution_count": 17,
     "metadata": {},
     "output_type": "execute_result"
    }
   ],
   "source": [
    "non_to_donor_prob"
   ]
  },
  {
   "cell_type": "code",
   "execution_count": 18,
   "metadata": {},
   "outputs": [],
   "source": [
    "donor_to_non_prob=dton/d_in_2017"
   ]
  },
  {
   "cell_type": "code",
   "execution_count": 19,
   "metadata": {},
   "outputs": [
    {
     "data": {
      "text/plain": [
       "0.4500896592946802"
      ]
     },
     "execution_count": 19,
     "metadata": {},
     "output_type": "execute_result"
    }
   ],
   "source": [
    "donor_to_non_prob"
   ]
  },
  {
   "cell_type": "code",
   "execution_count": 20,
   "metadata": {},
   "outputs": [],
   "source": [
    "donor_to_donor_prob=dtod/d_in_2017"
   ]
  },
  {
   "cell_type": "code",
   "execution_count": 21,
   "metadata": {},
   "outputs": [
    {
     "data": {
      "text/plain": [
       "0.5499103407053197"
      ]
     },
     "execution_count": 21,
     "metadata": {},
     "output_type": "execute_result"
    }
   ],
   "source": [
    "donor_to_donor_prob"
   ]
  },
  {
   "cell_type": "code",
   "execution_count": 22,
   "metadata": {},
   "outputs": [],
   "source": [
    "non_to_non_prob=nton/n_in_2017"
   ]
  },
  {
   "cell_type": "code",
   "execution_count": 23,
   "metadata": {},
   "outputs": [
    {
     "data": {
      "text/plain": [
       "0.9788458594826267"
      ]
     },
     "execution_count": 23,
     "metadata": {},
     "output_type": "execute_result"
    }
   ],
   "source": [
    "non_to_non_prob"
   ]
  },
  {
   "cell_type": "code",
   "execution_count": 24,
   "metadata": {},
   "outputs": [
    {
     "name": "stdout",
     "output_type": "stream",
     "text": [
      "GIFT_AMOUNT_2008_NEW ---> GIFT_AMOUNT_2009_NEW \n",
      "\n",
      "        D   |      ND\n",
      "------------------------\n",
      "D      0.53 |     0.47\n",
      "------------------------\n",
      "ND     0.02 |     0.98\n",
      "\n",
      "\n",
      "\n",
      "<----------------------------------------------------------------------->\n",
      "\n",
      "\n",
      "\n",
      "GIFT_AMOUNT_2009_NEW ---> GIFT_AMOUNT_2010_NEW \n",
      "\n",
      "        D   |      ND\n",
      "------------------------\n",
      "D      0.57 |     0.43\n",
      "------------------------\n",
      "ND     0.03 |     0.97\n",
      "\n",
      "\n",
      "\n",
      "<----------------------------------------------------------------------->\n",
      "\n",
      "\n",
      "\n",
      "GIFT_AMOUNT_2010_NEW ---> GIFT_AMOUNT_2011_NEW \n",
      "\n",
      "        D   |      ND\n",
      "------------------------\n",
      "D      0.53 |     0.47\n",
      "------------------------\n",
      "ND     0.02 |     0.98\n",
      "\n",
      "\n",
      "\n",
      "<----------------------------------------------------------------------->\n",
      "\n",
      "\n",
      "\n",
      "GIFT_AMOUNT_2011_NEW ---> GIFT_AMOUNT_2012_NEW \n",
      "\n",
      "        D   |      ND\n",
      "------------------------\n",
      "D      0.59 |     0.41\n",
      "------------------------\n",
      "ND     0.02 |     0.98\n",
      "\n",
      "\n",
      "\n",
      "<----------------------------------------------------------------------->\n",
      "\n",
      "\n",
      "\n",
      "GIFT_AMOUNT_2012_NEW ---> GIFT_AMOUNT_2013_NEW \n",
      "\n",
      "        D   |      ND\n",
      "------------------------\n",
      "D      0.54 |     0.46\n",
      "------------------------\n",
      "ND     0.02 |     0.98\n",
      "\n",
      "\n",
      "\n",
      "<----------------------------------------------------------------------->\n",
      "\n",
      "\n",
      "\n",
      "GIFT_AMOUNT_2013_NEW ---> GIFT_AMOUNT_2014_NEW \n",
      "\n",
      "        D   |      ND\n",
      "------------------------\n",
      "D      0.54 |     0.46\n",
      "------------------------\n",
      "ND     0.03 |     0.97\n",
      "\n",
      "\n",
      "\n",
      "<----------------------------------------------------------------------->\n",
      "\n",
      "\n",
      "\n",
      "GIFT_AMOUNT_2014_NEW ---> GIFT_AMOUNT_2015_NEW \n",
      "\n",
      "        D   |      ND\n",
      "------------------------\n",
      "D      0.55 |     0.45\n",
      "------------------------\n",
      "ND     0.03 |     0.97\n",
      "\n",
      "\n",
      "\n",
      "<----------------------------------------------------------------------->\n",
      "\n",
      "\n",
      "\n",
      "GIFT_AMOUNT_2015_NEW ---> GIFT_AMOUNT_2016_NEW \n",
      "\n",
      "        D   |      ND\n",
      "------------------------\n",
      "D      0.54 |     0.46\n",
      "------------------------\n",
      "ND     0.02 |     0.98\n",
      "\n",
      "\n",
      "\n",
      "<----------------------------------------------------------------------->\n",
      "\n",
      "\n",
      "\n",
      "GIFT_AMOUNT_2016_NEW ---> GIFT_AMOUNT_2017_NEW \n",
      "\n",
      "        D   |      ND\n",
      "------------------------\n",
      "D      0.53 |     0.47\n",
      "------------------------\n",
      "ND     0.02 |     0.98\n",
      "\n",
      "\n",
      "\n",
      "<----------------------------------------------------------------------->\n",
      "\n",
      "\n",
      "\n",
      "GIFT_AMOUNT_2017_NEW ---> GIFT_AMOUNT_2018_NEW \n",
      "\n",
      "        D   |      ND\n",
      "------------------------\n",
      "D      0.55 |     0.45\n",
      "------------------------\n",
      "ND     0.02 |     0.98\n",
      "\n",
      "\n",
      "\n",
      "<----------------------------------------------------------------------->\n",
      "\n",
      "\n",
      "\n"
     ]
    }
   ],
   "source": [
    "donors = 0\n",
    "non_donors = 0\n",
    "years = ['GIFT_AMOUNT_2008_NEW', 'GIFT_AMOUNT_2009_NEW', 'GIFT_AMOUNT_2010_NEW', 'GIFT_AMOUNT_2011_NEW',\n",
    "         'GIFT_AMOUNT_2012_NEW', 'GIFT_AMOUNT_2013_NEW', 'GIFT_AMOUNT_2014_NEW', 'GIFT_AMOUNT_2015_NEW',\n",
    "         'GIFT_AMOUNT_2016_NEW', 'GIFT_AMOUNT_2017_NEW', 'GIFT_AMOUNT_2018_NEW'\n",
    "        ]\n",
    "\n",
    "for i in range(len(years) - 1):\n",
    "    y = years[i]\n",
    "    y_1 = years[i+1]\n",
    "    \n",
    "    prev_donor_indices = set(ub_data[ub_data[y] > 0].index.tolist())\n",
    "    next_donor_indices = set(ub_data[ub_data[y_1] > 0].index.tolist())\n",
    "    \n",
    "    prev_nd_indices = set(ub_data[ub_data[y] == 0].index.tolist())\n",
    "    next_nd_indices = set(ub_data[ub_data[y_1] == 0].index.tolist())\n",
    "    \n",
    "    donor_to_donor = len(prev_donor_indices.intersection(next_donor_indices)) / len(prev_donor_indices)\n",
    "    don_to_nd = 1 - donor_to_donor\n",
    "    \n",
    "    nd_to_nd = len(prev_nd_indices.intersection(next_nd_indices)) / len(prev_nd_indices)\n",
    "    nd_to_donor = 1 - nd_to_nd\n",
    "\n",
    "    print(y, '--->', y_1, '\\n')\n",
    "    print('        D   |      ND')\n",
    "    print('------------------------')\n",
    "    print('D     ', round(donor_to_donor, 2), '|    ', round(don_to_nd, 2))\n",
    "    print('------------------------')\n",
    "    print('ND    ', round(nd_to_donor, 2), '|    ', round(nd_to_nd,2))  \n",
    "    print('\\n\\n')\n",
    "    print('<----------------------------------------------------------------------->')\n",
    "    print('\\n\\n')"
   ]
  },
  {
   "cell_type": "code",
   "execution_count": null,
   "metadata": {},
   "outputs": [],
   "source": []
  }
 ],
 "metadata": {
  "kernelspec": {
   "display_name": "Python 3",
   "language": "python",
   "name": "python3"
  },
  "language_info": {
   "codemirror_mode": {
    "name": "ipython",
    "version": 3
   },
   "file_extension": ".py",
   "mimetype": "text/x-python",
   "name": "python",
   "nbconvert_exporter": "python",
   "pygments_lexer": "ipython3",
   "version": "3.7.1"
  }
 },
 "nbformat": 4,
 "nbformat_minor": 2
}
